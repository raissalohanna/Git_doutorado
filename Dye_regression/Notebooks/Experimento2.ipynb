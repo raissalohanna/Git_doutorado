{
 "cells": [
  {
   "cell_type": "markdown",
   "metadata": {},
   "source": [
    "### Experimento 2: Outliers\n",
    "\n",
    "Rodar uma regressão em 3 datasets que passaram por algoritmos diferentes de remoção de outliers:\n",
    "\n",
    "- Isolation Forest\n",
    "- Minimum Covariance Determinant\n",
    "- One Class SVM\n",
    "\n",
    "\n",
    "Fonte: https://machinelearningmastery.com/model-based-outlier-detection-and-removal-in-python/\n",
    "\n",
    "Iremos testar tanto com a `Regressão Ridge`, quanto com a `Regressão Linear`, que tiveram resultados próximos recentemente."
   ]
  },
  {
   "cell_type": "code",
   "execution_count": 1,
   "metadata": {},
   "outputs": [],
   "source": [
    "import pandas as pd\n",
    "\n",
    "#metrics\n",
    "from sklearn.metrics import mean_absolute_error\n",
    "\n",
    "#models\n",
    "from sklearn.linear_model import LinearRegression\n",
    "from sklearn.linear_model import Ridge\n",
    "\n",
    "#outlier detection algorithms\n",
    "from sklearn.ensemble import IsolationForest\n",
    "from sklearn.covariance import EllipticEnvelope"
   ]
  },
  {
   "cell_type": "code",
   "execution_count": 2,
   "metadata": {},
   "outputs": [],
   "source": [
    "# load the dataset\n",
    "X_train = pd.read_parquet(\"../Datasets/DF_split/X_train.parquet\")\n",
    "X_val = pd.read_parquet(\"../Datasets/DF_split/X_val.parquet\")\n",
    "y_train = pd.read_csv(\"../Datasets/DF_split/y_train.csv\")\n",
    "y_val = pd.read_csv(\"../Datasets/DF_split/y_val.csv\")"
   ]
  },
  {
   "cell_type": "code",
   "execution_count": 3,
   "metadata": {},
   "outputs": [
    {
     "name": "stdout",
     "output_type": "stream",
     "text": [
      "(1988340, 75) (1988340, 1)\n"
     ]
    }
   ],
   "source": [
    "# initial shape of the training dataset\n",
    "print(X_train.shape, y_train.shape)"
   ]
  },
  {
   "cell_type": "markdown",
   "metadata": {},
   "source": [
    "### Isolation Forest"
   ]
  },
  {
   "cell_type": "code",
   "execution_count": 4,
   "metadata": {},
   "outputs": [],
   "source": [
    "X_train = X_train.drop(columns='cid').values\n",
    "X_val = X_val.drop(columns='cid').values\n",
    "y_train = y_train.values\n",
    "y_val = y_val.values"
   ]
  },
  {
   "cell_type": "code",
   "execution_count": 5,
   "metadata": {},
   "outputs": [
    {
     "data": {
      "text/plain": [
       "array([[ 9.23750000e+04,  1.21050000e+05,  1.80675000e+05, ...,\n",
       "        -5.31710464e+00,  4.38919641e+00, -2.12549000e+04],\n",
       "       [ 5.21250000e+04,  6.10000000e+04,  8.33500000e+04, ...,\n",
       "        -3.59190283e-01,  5.99466813e+00, -1.95844131e+04],\n",
       "       [ 5.35250000e+04,  6.49750000e+04,  8.98500000e+04, ...,\n",
       "         6.09535025e-01,  6.88448042e+00, -1.70947811e+04],\n",
       "       ...,\n",
       "       [ 8.64750000e+04,  1.03825000e+05,  1.60425000e+05, ...,\n",
       "        -1.54832781e+00,  4.19599557e+00, -3.01401312e+04],\n",
       "       [ 7.23000000e+04,  8.37750000e+04,  1.16775000e+05, ...,\n",
       "        -7.51034227e-01,  4.84362654e+00, -2.57219912e+04],\n",
       "       [ 5.41000000e+04,  6.16000000e+04,  8.40250000e+04, ...,\n",
       "        -3.59190283e-01,  7.08040239e+00, -2.56850714e+04]])"
      ]
     },
     "execution_count": 5,
     "metadata": {},
     "output_type": "execute_result"
    }
   ],
   "source": [
    "X_train"
   ]
  },
  {
   "cell_type": "code",
   "execution_count": 6,
   "metadata": {},
   "outputs": [
    {
     "name": "stdout",
     "output_type": "stream",
     "text": [
      "(1789506, 74) (1789506, 1)\n"
     ]
    }
   ],
   "source": [
    "# evaluate model performance with outliers removed using isolation forest\n",
    "iso = IsolationForest(contamination=0.1)\n",
    "yhat = iso.fit_predict(X_train)\n",
    "# select all rows that are not outliers\n",
    "mask = yhat != -1\n",
    "X_train, y_train = X_train[mask, :], y_train[mask]\n",
    "# summarize the shape of the updated training dataset\n",
    "print(X_train.shape, y_train.shape)"
   ]
  },
  {
   "cell_type": "markdown",
   "metadata": {},
   "source": [
    "Linear Regression"
   ]
  },
  {
   "cell_type": "code",
   "execution_count": 7,
   "metadata": {},
   "outputs": [
    {
     "name": "stdout",
     "output_type": "stream",
     "text": [
      "MAE: 0.296\n"
     ]
    }
   ],
   "source": [
    "# fit the model\n",
    "model = LinearRegression()\n",
    "model.fit(X_train, y_train)\n",
    "# evaluate the model\n",
    "yhat = model.predict(X_val)\n",
    "# evaluate predictions\n",
    "mae = mean_absolute_error(y_val, yhat)\n",
    "print('MAE: %.3f' % mae)"
   ]
  },
  {
   "cell_type": "markdown",
   "metadata": {},
   "source": [
    "Ridge Regression"
   ]
  },
  {
   "cell_type": "code",
   "execution_count": 8,
   "metadata": {},
   "outputs": [
    {
     "name": "stdout",
     "output_type": "stream",
     "text": [
      "MAE: 0.248\n"
     ]
    },
    {
     "name": "stderr",
     "output_type": "stream",
     "text": [
      "c:\\Users\\rlgqc\\anaconda3\\envs\\pubchem_qc\\lib\\site-packages\\sklearn\\linear_model\\_ridge.py:216: LinAlgWarning: Ill-conditioned matrix (rcond=8.67397e-34): result may not be accurate.\n",
      "  return linalg.solve(A, Xy, assume_a=\"pos\", overwrite_a=True).T\n"
     ]
    }
   ],
   "source": [
    "# fit the model\n",
    "RD = Ridge()\n",
    "RD.fit(X_train, y_train)\n",
    "# evaluate the RD\n",
    "yhat = RD.predict(X_val)\n",
    "# evaluate predictions\n",
    "mae = mean_absolute_error(y_val, yhat)\n",
    "print('MAE: %.3f' % mae)"
   ]
  },
  {
   "cell_type": "markdown",
   "metadata": {},
   "source": [
    "### Minimum Covariance"
   ]
  },
  {
   "cell_type": "code",
   "execution_count": 9,
   "metadata": {},
   "outputs": [
    {
     "name": "stderr",
     "output_type": "stream",
     "text": [
      "c:\\Users\\rlgqc\\anaconda3\\envs\\pubchem_qc\\lib\\site-packages\\sklearn\\covariance\\_robust_covariance.py:745: UserWarning: The covariance matrix associated to your dataset is not full rank\n",
      "  warnings.warn(\n"
     ]
    },
    {
     "name": "stdout",
     "output_type": "stream",
     "text": [
      "(1771610, 74) (1771610, 1)\n"
     ]
    }
   ],
   "source": [
    "# identify outliers in the training dataset\n",
    "ee = EllipticEnvelope(contamination=0.01)\n",
    "yhat = ee.fit_predict(X_train)\n",
    "# select all rows that are not outliers\n",
    "mask = yhat != -1\n",
    "X_train, y_train = X_train[mask, :], y_train[mask]\n",
    "# summarize the shape of the updated training dataset\n",
    "print(X_train.shape, y_train.shape)"
   ]
  },
  {
   "cell_type": "markdown",
   "metadata": {},
   "source": [
    "Linear Regression"
   ]
  },
  {
   "cell_type": "code",
   "execution_count": 10,
   "metadata": {},
   "outputs": [
    {
     "name": "stdout",
     "output_type": "stream",
     "text": [
      "MAE: 0.305\n"
     ]
    }
   ],
   "source": [
    "# fit the model\n",
    "model = LinearRegression()\n",
    "model.fit(X_train, y_train)\n",
    "# evaluate the model\n",
    "yhat = model.predict(X_val)\n",
    "# evaluate predictions\n",
    "mae = mean_absolute_error(y_val, yhat)\n",
    "print('MAE: %.3f' % mae)"
   ]
  },
  {
   "cell_type": "markdown",
   "metadata": {},
   "source": [
    "Ridge Regression"
   ]
  },
  {
   "cell_type": "code",
   "execution_count": 11,
   "metadata": {},
   "outputs": [
    {
     "name": "stdout",
     "output_type": "stream",
     "text": [
      "MAE: 0.249\n"
     ]
    },
    {
     "name": "stderr",
     "output_type": "stream",
     "text": [
      "c:\\Users\\rlgqc\\anaconda3\\envs\\pubchem_qc\\lib\\site-packages\\sklearn\\linear_model\\_ridge.py:216: LinAlgWarning: Ill-conditioned matrix (rcond=8.71479e-34): result may not be accurate.\n",
      "  return linalg.solve(A, Xy, assume_a=\"pos\", overwrite_a=True).T\n"
     ]
    }
   ],
   "source": [
    "# fit the model\n",
    "RD = Ridge()\n",
    "RD.fit(X_train, y_train)\n",
    "# evaluate the RD\n",
    "yhat = RD.predict(X_val)\n",
    "# evaluate predictions\n",
    "mae = mean_absolute_error(y_val, yhat)\n",
    "print('MAE: %.3f' % mae)"
   ]
  },
  {
   "cell_type": "markdown",
   "metadata": {},
   "source": [
    "### SVM"
   ]
  },
  {
   "cell_type": "code",
   "execution_count": null,
   "metadata": {},
   "outputs": [],
   "source": [
    "from sklearn.svm import OneClassSVM\n",
    "\n",
    "# identify outliers in the training dataset\n",
    "ee = OneClassSVM(nu=0.01)\n",
    "yhat = ee.fit_predict(X_train)\n",
    "# select all rows that are not outliers\n",
    "mask = yhat != -1\n",
    "X_train, y_train = X_train[mask, :], y_train[mask]\n",
    "# summarize the shape of the updated training dataset\n",
    "print(X_train.shape, y_train.shape)"
   ]
  },
  {
   "cell_type": "code",
   "execution_count": null,
   "metadata": {},
   "outputs": [],
   "source": [
    "# fit the model\n",
    "model = LinearRegression()\n",
    "model.fit(X_train, y_train)\n",
    "# evaluate the model\n",
    "yhat = model.predict(X_val)\n",
    "# evaluate predictions\n",
    "mae = mean_absolute_error(y_val, yhat)\n",
    "print('MAE: %.3f' % mae)"
   ]
  },
  {
   "cell_type": "code",
   "execution_count": null,
   "metadata": {},
   "outputs": [],
   "source": [
    "# plotar uma única figura para demonstrar a diferença após normalizar, escalar e sem tratar os dados"
   ]
  }
 ],
 "metadata": {
  "kernelspec": {
   "display_name": "pubchem_qc",
   "language": "python",
   "name": "python3"
  },
  "language_info": {
   "codemirror_mode": {
    "name": "ipython",
    "version": 3
   },
   "file_extension": ".py",
   "mimetype": "text/x-python",
   "name": "python",
   "nbconvert_exporter": "python",
   "pygments_lexer": "ipython3",
   "version": "3.8.16"
  }
 },
 "nbformat": 4,
 "nbformat_minor": 2
}
