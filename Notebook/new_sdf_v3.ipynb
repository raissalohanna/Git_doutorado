{
 "cells": [
  {
   "cell_type": "code",
   "execution_count": 1,
   "metadata": {},
   "outputs": [],
   "source": [
    "import numpy as np\n",
    "import pandas as pd\n",
    "from rdkit import Chem"
   ]
  },
  {
   "cell_type": "code",
   "execution_count": null,
   "metadata": {},
   "outputs": [],
   "source": [
    "df = pd.read_parquet(\"atom_coord_processed.parquet\")"
   ]
  },
  {
   "cell_type": "code",
   "execution_count": null,
   "metadata": {},
   "outputs": [],
   "source": [
    "# Create an empty list to store molecules\n",
    "mols = []\n",
    "\n",
    "# Convert atomic numbers and positions to molecules\n",
    "for _, row in df.iterrows():\n",
    "    mol = Chem.RWMol()\n",
    "\n",
    "    for i in range(row['atom_count']):\n",
    "        atomic_number = row['atomic_numbers'][i]\n",
    "        atom = Chem.Atom(atomic_number)\n",
    "        atom.SetMonomerInfo(Chem.AtomPDBResidueInfo())\n",
    "        mol.AddAtom(atom)\n",
    "\n",
    "        atom_idx = mol.GetNumAtoms() - 1\n",
    "        position = row['atomic_positions'][i]\n",
    "        mol.GetConformer().SetAtomPosition(atom_idx, Chem.rdGeometry.Point3D(*position))\n",
    "\n",
    "    mols.append(mol)\n",
    "\n",
    "# Write the molecules to separate SDF files\n",
    "for i, mol in enumerate(mols):\n",
    "    writer = Chem.SDWriter(f'molecule_{df.loc[i, \"cid\"]}.sdf')\n",
    "    writer.write(mol)\n",
    "    writer.close()\n"
   ]
  }
 ],
 "metadata": {
  "kernelspec": {
   "display_name": "my-rdkit-env",
   "language": "python",
   "name": "python3"
  },
  "language_info": {
   "codemirror_mode": {
    "name": "ipython",
    "version": 3
   },
   "file_extension": ".py",
   "mimetype": "text/x-python",
   "name": "python",
   "nbconvert_exporter": "python",
   "pygments_lexer": "ipython3",
   "version": "3.11.3"
  },
  "orig_nbformat": 4
 },
 "nbformat": 4,
 "nbformat_minor": 2
}
