{
 "cells": [
  {
   "attachments": {},
   "cell_type": "markdown",
   "metadata": {},
   "source": [
    "# **Generate SDF files**\n",
    "\n",
    "**Author:** Raissa Lohanna\n",
    "\n",
    "**Date:** June 16th, 2023\n",
    "\n",
    "**Objective:** Generate SFD files in order to use the `chemreps` library to generate BoB descriptors.\n",
    "\n",
    "The files must be saved and read in the structure: `../data/sdf/`."
   ]
  },
  {
   "cell_type": "code",
   "execution_count": 1,
   "metadata": {},
   "outputs": [],
   "source": [
    "import numpy as np\n",
    "import pandas as pd\n",
    "from rdkit import Chem"
   ]
  },
  {
   "cell_type": "code",
   "execution_count": 17,
   "metadata": {},
   "outputs": [],
   "source": [
    "df = pd.read_parquet(\"atom_coord_processed.parquet\")"
   ]
  },
  {
   "cell_type": "code",
   "execution_count": null,
   "metadata": {},
   "outputs": [],
   "source": [
    "# Convert atomic numbers and positions to molecules\n",
    "for _, row in df.iterrows():\n",
    "    mol = Chem.RWMol()\n",
    "\n",
    "    for i in range(row['atom count']):\n",
    "        atomic_number = int(row['atomic numbers'][i])\n",
    "        atom = Chem.Atom(atomic_number)\n",
    "        atom.SetMonomerInfo(Chem.AtomPDBResidueInfo())\n",
    "        mol.AddAtom(atom)\n",
    "\n",
    "        conformer = Chem.Conformer(mol.GetNumAtoms())\n",
    "        mol.AddConformer(conformer)\n",
    "\n",
    "        atom_idx = mol.GetNumAtoms() - 1\n",
    "        position = row['atomic positions'][i]\n",
    "        mol.GetConformer().SetAtomPosition(atom_idx, Chem.rdGeometry.Point3D(*position))\n",
    "\n",
    "    writer = Chem.SDWriter(f'../data/sdf/molecule_{row.cid}.sdf')\n",
    "    writer.write(mol)\n",
    "    writer.close()"
   ]
  }
 ],
 "metadata": {
  "kernelspec": {
   "display_name": "my-rdkit-env",
   "language": "python",
   "name": "python3"
  },
  "language_info": {
   "codemirror_mode": {
    "name": "ipython",
    "version": 3
   },
   "file_extension": ".py",
   "mimetype": "text/x-python",
   "name": "python",
   "nbconvert_exporter": "python",
   "pygments_lexer": "ipython3",
   "version": "3.8.16"
  },
  "orig_nbformat": 4
 },
 "nbformat": 4,
 "nbformat_minor": 2
}
