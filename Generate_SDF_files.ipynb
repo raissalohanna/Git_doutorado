{
 "cells": [
  {
   "cell_type": "code",
   "execution_count": 1,
   "metadata": {},
   "outputs": [],
   "source": [
    "import numpy as np\n",
    "import pandas as pd"
   ]
  },
  {
   "cell_type": "code",
   "execution_count": 2,
   "metadata": {},
   "outputs": [],
   "source": [
    "df_coords = pd.read_parquet('atom_coordinates-001.parquet')"
   ]
  },
  {
   "cell_type": "code",
   "execution_count": 3,
   "metadata": {},
   "outputs": [
    {
     "data": {
      "text/html": [
       "<div>\n",
       "<style scoped>\n",
       "    .dataframe tbody tr th:only-of-type {\n",
       "        vertical-align: middle;\n",
       "    }\n",
       "\n",
       "    .dataframe tbody tr th {\n",
       "        vertical-align: top;\n",
       "    }\n",
       "\n",
       "    .dataframe thead th {\n",
       "        text-align: right;\n",
       "    }\n",
       "</style>\n",
       "<table border=\"1\" class=\"dataframe\">\n",
       "  <thead>\n",
       "    <tr style=\"text-align: right;\">\n",
       "      <th></th>\n",
       "      <th>atomic numbers</th>\n",
       "      <th>atom count</th>\n",
       "      <th>heavy atom count</th>\n",
       "      <th>geometry_x</th>\n",
       "      <th>geometry_y</th>\n",
       "      <th>geometry_z</th>\n",
       "    </tr>\n",
       "    <tr>\n",
       "      <th>cid</th>\n",
       "      <th></th>\n",
       "      <th></th>\n",
       "      <th></th>\n",
       "      <th></th>\n",
       "      <th></th>\n",
       "      <th></th>\n",
       "    </tr>\n",
       "  </thead>\n",
       "  <tbody>\n",
       "    <tr>\n",
       "      <th>1</th>\n",
       "      <td>[6, 6, 8, 8, 6, 6, 6, 8, 8, 6, 7, 6, 6, 6, 1, ...</td>\n",
       "      <td>31</td>\n",
       "      <td>14</td>\n",
       "      <td>[9.0222826408, 8.6952767673, 8.5944177792, 8.5...</td>\n",
       "      <td>[4.8372353216, 3.4064427818, 2.982379015, 2.64...</td>\n",
       "      <td>[-3.0906412175, -3.4441728955, -4.5846751688, ...</td>\n",
       "    </tr>\n",
       "    <tr>\n",
       "      <th>2</th>\n",
       "      <td>[6, 6, 8, 8, 6, 6, 6, 8, 8, 6, 7, 6, 6, 6, 1, ...</td>\n",
       "      <td>32</td>\n",
       "      <td>14</td>\n",
       "      <td>[0.8534969865, 2.0554171317, 2.1532149537, 3.0...</td>\n",
       "      <td>[3.6892102868, 2.874638067, 2.1476716139, 3.05...</td>\n",
       "      <td>[-0.1689540401, 0.215227915, 1.1811928829, -0....</td>\n",
       "    </tr>\n",
       "    <tr>\n",
       "      <th>3</th>\n",
       "      <td>[6, 6, 6, 6, 6, 6, 6, 8, 8, 8, 8, 1, 1, 1, 1, ...</td>\n",
       "      <td>19</td>\n",
       "      <td>11</td>\n",
       "      <td>[1.1846999742, 1.4523086164, 0.3783964324, -1....</td>\n",
       "      <td>[0.8792580075, -0.4392446067, -1.4636017705, -...</td>\n",
       "      <td>[0.1084402265, 0.1134616892, -0.14140948, 0.12...</td>\n",
       "    </tr>\n",
       "    <tr>\n",
       "      <th>4</th>\n",
       "      <td>[6, 6, 6, 7, 8, 1, 1, 1, 1, 1, 1, 1, 1, 1]</td>\n",
       "      <td>14</td>\n",
       "      <td>5</td>\n",
       "      <td>[0.8709266695, 2.392262514, 2.8675340407, 4.32...</td>\n",
       "      <td>[-0.0592588282, -0.0939471141, -0.1495982066, ...</td>\n",
       "      <td>[-0.0932100126, 0.0365717632, 1.4905144329, 1....</td>\n",
       "    </tr>\n",
       "    <tr>\n",
       "      <th>5</th>\n",
       "      <td>[6, 6, 8, 6, 8, 15, 8, 8, 8, 7, 1, 1, 1, 1, 1,...</td>\n",
       "      <td>18</td>\n",
       "      <td>10</td>\n",
       "      <td>[1.7220056617, 1.407568102, 2.3037718629, -0.0...</td>\n",
       "      <td>[-0.7257250542, -1.3783715531, -1.6157526, -1....</td>\n",
       "      <td>[0.4170901951, -0.9230877039, -1.7183004719, -...</td>\n",
       "    </tr>\n",
       "  </tbody>\n",
       "</table>\n",
       "</div>"
      ],
      "text/plain": [
       "                                        atomic numbers  atom count  \\\n",
       "cid                                                                  \n",
       "1    [6, 6, 8, 8, 6, 6, 6, 8, 8, 6, 7, 6, 6, 6, 1, ...          31   \n",
       "2    [6, 6, 8, 8, 6, 6, 6, 8, 8, 6, 7, 6, 6, 6, 1, ...          32   \n",
       "3    [6, 6, 6, 6, 6, 6, 6, 8, 8, 8, 8, 1, 1, 1, 1, ...          19   \n",
       "4           [6, 6, 6, 7, 8, 1, 1, 1, 1, 1, 1, 1, 1, 1]          14   \n",
       "5    [6, 6, 8, 6, 8, 15, 8, 8, 8, 7, 1, 1, 1, 1, 1,...          18   \n",
       "\n",
       "     heavy atom count                                         geometry_x  \\\n",
       "cid                                                                        \n",
       "1                  14  [9.0222826408, 8.6952767673, 8.5944177792, 8.5...   \n",
       "2                  14  [0.8534969865, 2.0554171317, 2.1532149537, 3.0...   \n",
       "3                  11  [1.1846999742, 1.4523086164, 0.3783964324, -1....   \n",
       "4                   5  [0.8709266695, 2.392262514, 2.8675340407, 4.32...   \n",
       "5                  10  [1.7220056617, 1.407568102, 2.3037718629, -0.0...   \n",
       "\n",
       "                                            geometry_y  \\\n",
       "cid                                                      \n",
       "1    [4.8372353216, 3.4064427818, 2.982379015, 2.64...   \n",
       "2    [3.6892102868, 2.874638067, 2.1476716139, 3.05...   \n",
       "3    [0.8792580075, -0.4392446067, -1.4636017705, -...   \n",
       "4    [-0.0592588282, -0.0939471141, -0.1495982066, ...   \n",
       "5    [-0.7257250542, -1.3783715531, -1.6157526, -1....   \n",
       "\n",
       "                                            geometry_z  \n",
       "cid                                                     \n",
       "1    [-3.0906412175, -3.4441728955, -4.5846751688, ...  \n",
       "2    [-0.1689540401, 0.215227915, 1.1811928829, -0....  \n",
       "3    [0.1084402265, 0.1134616892, -0.14140948, 0.12...  \n",
       "4    [-0.0932100126, 0.0365717632, 1.4905144329, 1....  \n",
       "5    [0.4170901951, -0.9230877039, -1.7183004719, -...  "
      ]
     },
     "execution_count": 3,
     "metadata": {},
     "output_type": "execute_result"
    }
   ],
   "source": [
    "df_coords.head()"
   ]
  },
  {
   "cell_type": "code",
   "execution_count": 4,
   "metadata": {},
   "outputs": [],
   "source": [
    "df = df_coords.head()"
   ]
  },
  {
   "cell_type": "code",
   "execution_count": 5,
   "metadata": {},
   "outputs": [],
   "source": [
    "# Convertendo o index (cid) em coluna\n",
    "df.reset_index(inplace=True)"
   ]
  },
  {
   "cell_type": "code",
   "execution_count": 7,
   "metadata": {},
   "outputs": [
    {
     "name": "stdout",
     "output_type": "stream",
     "text": [
      "Arquivo XYZ criado: coordinates_cid_1.xyz\n",
      "Arquivo XYZ criado: coordinates_cid_2.xyz\n",
      "Arquivo XYZ criado: coordinates_cid_3.xyz\n",
      "Arquivo XYZ criado: coordinates_cid_4.xyz\n",
      "Arquivo XYZ criado: coordinates_cid_5.xyz\n"
     ]
    }
   ],
   "source": [
    "# Tabela de conversão de número atômico para símbolo do átomo\n",
    "atomic_symbol_table = {\n",
    "    1: 'H',\n",
    "    5: 'B',\n",
    "    6: 'C',\n",
    "    7: 'N',\n",
    "    8: 'O',\n",
    "    9: 'F',\n",
    "    16: 'S',\n",
    "    17: 'Cl',\n",
    "    35: 'Br'\n",
    "}\n",
    "\n",
    "def create_xyz_file(row):\n",
    "    cid = row['cid']\n",
    "    filename = f\"coordinates_cid_{cid}.xyz\"\n",
    "\n",
    "    coordinates = np.column_stack((\n",
    "        np.fromstring(row['geometry_x'][1:-1], sep=','),\n",
    "        np.fromstring(row['geometry_y'][1:-1], sep=','),\n",
    "        np.fromstring(row['geometry_z'][1:-1], sep=',')\n",
    "    )).astype(float)\n",
    "\n",
    "    atomic_numbers_str = row['atomic numbers']\n",
    "    atomic_numbers_str = atomic_numbers_str.strip('[]')  # Remove os colchetes\n",
    "\n",
    "    atomic_numbers = [int(num) for num in atomic_numbers_str.split(',')]\n",
    "\n",
    "    with open(filename, 'w') as file:\n",
    "        file.write(f\"{len(coordinates)}\\n\")\n",
    "        file.write(f\"Coordinates for CID: {cid}\\n\")\n",
    "\n",
    "        for coord, atomic_num in zip(coordinates, atomic_numbers):\n",
    "            atom = atomic_symbol_table.get(atomic_num, 'X')\n",
    "            file.write(f\"{atom} {coord[0]:.4f} {coord[1]:.4f} {coord[2]:.4f}\\n\")\n",
    "    \n",
    "    print(f\"Arquivo XYZ criado: {filename}\")\n",
    "\n",
    "# Iterando pelas linhas do DataFrame e chamando a função create_xyz_file individualmente\n",
    "for _, row in df.iterrows():\n",
    "    create_xyz_file(row)\n"
   ]
  }
 ],
 "metadata": {
  "kernelspec": {
   "display_name": "base",
   "language": "python",
   "name": "python3"
  },
  "language_info": {
   "codemirror_mode": {
    "name": "ipython",
    "version": 3
   },
   "file_extension": ".py",
   "mimetype": "text/x-python",
   "name": "python",
   "nbconvert_exporter": "python",
   "pygments_lexer": "ipython3",
   "version": "3.8.15"
  },
  "orig_nbformat": 4
 },
 "nbformat": 4,
 "nbformat_minor": 2
}
